{
 "cells": [
  {
   "cell_type": "code",
   "execution_count": 46,
   "id": "929c9fa7-790b-480e-8de3-fd4bb11ca8b3",
   "metadata": {},
   "outputs": [
    {
     "name": "stdout",
     "output_type": "stream",
     "text": [
      "Requirement already satisfied: numpy in c:\\users\\pc\\miniconda3\\lib\\site-packages (2.1.2)\n"
     ]
    }
   ],
   "source": [
    "!pip install numpy"
   ]
  },
  {
   "cell_type": "code",
   "execution_count": 47,
   "id": "65211629-de0a-45b7-899e-f1546a32d6d9",
   "metadata": {},
   "outputs": [],
   "source": [
    "import matplotlib.pyplot as plt\n",
    "import random\n",
    "import math\n",
    "import numpy as np\n",
    "import pandas as pd\n",
    "from sklearn.model_selection import train_test_split"
   ]
  },
  {
   "cell_type": "code",
   "execution_count": 48,
   "id": "6e1e90a4-fe48-458a-bfe7-e6fff6d6712a",
   "metadata": {},
   "outputs": [
    {
     "name": "stdout",
     "output_type": "stream",
     "text": [
      "Requirement already satisfied: scikit-learn in c:\\users\\pc\\miniconda3\\lib\\site-packages (1.5.2)\n",
      "Requirement already satisfied: numpy>=1.19.5 in c:\\users\\pc\\miniconda3\\lib\\site-packages (from scikit-learn) (2.1.2)\n",
      "Requirement already satisfied: scipy>=1.6.0 in c:\\users\\pc\\miniconda3\\lib\\site-packages (from scikit-learn) (1.14.1)\n",
      "Requirement already satisfied: joblib>=1.2.0 in c:\\users\\pc\\miniconda3\\lib\\site-packages (from scikit-learn) (1.4.2)\n",
      "Requirement already satisfied: threadpoolctl>=3.1.0 in c:\\users\\pc\\miniconda3\\lib\\site-packages (from scikit-learn) (3.5.0)\n"
     ]
    }
   ],
   "source": [
    "!pip install scikit-learn\n"
   ]
  },
  {
   "cell_type": "code",
   "execution_count": 49,
   "id": "9125b893-6606-4ebd-9f08-0cf3b38df3f8",
   "metadata": {},
   "outputs": [
    {
     "name": "stdout",
     "output_type": "stream",
     "text": [
      "0.9670298390136767\n",
      "0.5472322491757223\n"
     ]
    }
   ],
   "source": [
    "\n",
    "np.random.seed(4)\n",
    "\n",
    "\n",
    "weight = np.random.rand()\n",
    "bias = np.random.rand()\n",
    "\n",
    "print(weight)\n",
    "print(bias)\n"
   ]
  },
  {
   "cell_type": "code",
   "execution_count": 50,
   "id": "628958c6-079a-4547-84d0-fbf6515f371d",
   "metadata": {},
   "outputs": [
    {
     "name": "stdout",
     "output_type": "stream",
     "text": [
      "     Celsius  Fahrenheit\n",
      "0        -39       -38.2\n",
      "1         32        89.6\n",
      "2         10        50.0\n",
      "3        -31       -23.8\n",
      "4         18        64.4\n",
      "..       ...         ...\n",
      "155      -13         8.6\n",
      "156       37        98.6\n",
      "157        9        48.2\n",
      "158      -36       -32.8\n",
      "159      -37       -34.6\n",
      "\n",
      "[160 rows x 2 columns]\n"
     ]
    }
   ],
   "source": [
    "Celsius = np.random.randint(-40, 40, 160)\n",
    "\n",
    "\n",
    "Fahrenheit = Celsius * 1.8 + 32\n",
    "\n",
    "data = pd.DataFrame({\n",
    "    'Celsius': Celsius,\n",
    "    'Fahrenheit': Fahrenheit\n",
    "})\n",
    "\n",
    "print(data)\n",
    "\n",
    "\n",
    "train, test = train_test_split(data, test_size=0.2, random_state=0)\n"
   ]
  },
  {
   "cell_type": "code",
   "execution_count": 51,
   "id": "6e7de535-cdc8-494f-9640-5f5cfe5dd12e",
   "metadata": {},
   "outputs": [
    {
     "name": "stdout",
     "output_type": "stream",
     "text": [
      "128\n",
      "32\n"
     ]
    }
   ],
   "source": [
    "print(len(train))\n",
    "print(len(test))"
   ]
  },
  {
   "cell_type": "code",
   "execution_count": 4,
   "id": "791abfd0-f2eb-4616-aa42-17e3c6c23ba7",
   "metadata": {},
   "outputs": [],
   "source": [
    "def forward_with_loss(Celsius, Fahrenheit, weight, bias):\n",
    "    \n",
    "    Fahrenheit_pred = Celsius * weight + bias\n",
    "    \n",
    "    m = len(Celsius)  \n",
    "    loss = (1 / m) * np.sum((Fahrenheit_pred - Fahrenheit) ** 2)\n",
    "\n",
    "    print(f\"Prédictions: {Fahrenheit_pred}\")\n",
    "    print(f\"true values: {Fahrenheit}\")\n",
    "    print(f\"Perte : {loss}\")\n",
    "    \n",
    "    return Fahrenheit_pred, loss\n",
    "\n",
    "\n",
    "\n",
    "\n",
    "\n",
    "def backward(Celsius, Fahrenheit, Fahrenheit_pred):\n",
    "   \n",
    "    \n",
    "    gradient_weight = (2 / m) * np.sum((Fahrenheit_pred - Fahrenheit) * Celsius)\n",
    "    gradient_bias = (2 / m) * np.sum(Fahrenheit_pred - Fahrenheit)\n",
    "    \n",
    "    print(f\"Gradient des poids (gradient_weight): {gradient_weight}\")\n",
    "    print(f\"Gradient du biais (gradient_bias): {gradient_bias}\")\n",
    "    \n",
    "    return gradient_weight, gradient_bias\n",
    "\n",
    "\n",
    "\n",
    "\n",
    "\n",
    "\n",
    "def update_param(weight, bias, gradient_weight, gradient_bias, lr):\n",
    "    \n",
    "    lr = 0.01\n",
    "    \n",
    "    weight -= lr * gradient_weight\n",
    "    bias -= lr * gradient_bias\n",
    "    \n",
    "    print(f\"Poids mis à jour : {weight}\")\n",
    "    print(f\"Biais mis à jour : {bias}\")\n",
    "    \n",
    "    return weight, bias\n",
    "\n",
    "\n",
    "\n",
    "\n",
    "    \n"
   ]
  }
 ],
 "metadata": {
  "kernelspec": {
   "display_name": "Python 3 (ipykernel)",
   "language": "python",
   "name": "python3"
  },
  "language_info": {
   "codemirror_mode": {
    "name": "ipython",
    "version": 3
   },
   "file_extension": ".py",
   "mimetype": "text/x-python",
   "name": "python",
   "nbconvert_exporter": "python",
   "pygments_lexer": "ipython3",
   "version": "3.12.4"
  }
 },
 "nbformat": 4,
 "nbformat_minor": 5
}
